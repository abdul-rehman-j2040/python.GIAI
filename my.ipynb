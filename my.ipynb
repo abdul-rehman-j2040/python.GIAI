{
 "cells": [
  {
   "cell_type": "code",
   "execution_count": 1,
   "metadata": {},
   "outputs": [
    {
     "name": "stdout",
     "output_type": "stream",
     "text": [
      "Hello world\n"
     ]
    }
   ],
   "source": [
    "print(\"Hello world\")"
   ]
  },
  {
   "cell_type": "markdown",
   "metadata": {},
   "source": [
    "                                                                               ENUMERATED FUNCTIONS                                                                                             "
   ]
  },
  {
   "cell_type": "code",
   "execution_count": 10,
   "metadata": {},
   "outputs": [
    {
     "name": "stdout",
     "output_type": "stream",
     "text": [
      "Ali\n",
      "Abdullah\n",
      "Bilal\n",
      "Yaseen\n"
     ]
    }
   ],
   "source": [
    "names = [\"Ali\",\"Abdullah\",\"Bilal\",\"Yaseen\"]\n",
    "\n",
    "for name in names:\n",
    "    print(name)"
   ]
  },
  {
   "cell_type": "code",
   "execution_count": 11,
   "metadata": {},
   "outputs": [
    {
     "name": "stdout",
     "output_type": "stream",
     "text": [
      "Abdullah\n"
     ]
    }
   ],
   "source": [
    "names = [\"Ali\",\"Abdullah\",\"Bilal\",\"Yaseen\"]\n",
    "\n",
    "print(names[1])\n",
    "\n",
    "for name in names:\n",
    "\n",
    "    if names[1] == \"abdullah\":\n",
    "        print (\"Assalam-O-Alaikum Abdullah\")\n",
    "\n",
    "    # print(name)"
   ]
  },
  {
   "cell_type": "code",
   "execution_count": 51,
   "metadata": {},
   "outputs": [
    {
     "name": "stdout",
     "output_type": "stream",
     "text": [
      "name0 Ali\n",
      "name1 Abdullah\n",
      "name2 Bilal\n",
      "name3 Yaseen\n"
     ]
    }
   ],
   "source": [
    "names = [\"Ali\",\"Abdullah\",\"Bilal\",\"Yaseen\"]\n",
    "\n",
    "# print(names[1])\n",
    "\n",
    "index = 0\n",
    "for name in names:\n",
    "    print (f\"name{index} {name}\")\n",
    "    index = index + 1"
   ]
  },
  {
   "cell_type": "markdown",
   "metadata": {},
   "source": [
    "enumerate function hame index bhi return karta he list ke items ki"
   ]
  },
  {
   "cell_type": "code",
   "execution_count": 15,
   "metadata": {},
   "outputs": [
    {
     "name": "stdout",
     "output_type": "stream",
     "text": [
      "name0 Ali\n",
      "name1 Abdullah\n",
      "name2 Bilal\n",
      "name3 Yaseen\n"
     ]
    }
   ],
   "source": [
    "names = [\"Ali\",\"Abdullah\",\"Bilal\",\"Yaseen\"]\n",
    "\n",
    "\n",
    "for index,name in enumerate(names):\n",
    "    print (f\"name{index} {name}\")\n",
    "    index = index + 1"
   ]
  },
  {
   "cell_type": "code",
   "execution_count": 18,
   "metadata": {},
   "outputs": [
    {
     "name": "stdout",
     "output_type": "stream",
     "text": [
      "Assalam-O-Alaikum Sir\n"
     ]
    }
   ],
   "source": [
    "name = input(\"Enter Your name\")\n",
    "\n",
    "print(\"Assalam-O-Alaikum Sir\") if name == \"Sir Jawad\" else print(\"Assalam-O-Alaikum\")"
   ]
  },
  {
   "cell_type": "code",
   "execution_count": 28,
   "metadata": {},
   "outputs": [
    {
     "name": "stdout",
     "output_type": "stream",
     "text": [
      "name0 Ali\n",
      "name1 Abdullah\n",
      "name2 Bilal\n",
      "name3 Yaseen\n"
     ]
    }
   ],
   "source": [
    "names = [\"Ali\",\"Abdullah\",\"Bilal\",\"Yaseen\"]\n",
    "\n",
    "\n",
    "for index,name in enumerate(names):\n",
    "    print (f\"name{index} {name}\")\n",
    "    # index = index + 1\n",
    "\n",
    "    if name[index] == \"Abdullah\":\n",
    "        print(\"Assalam-O-Alaokum Abdullah\")\n",
    "\n",
    "    # print(f\"{name}:{index}\")    "
   ]
  },
  {
   "cell_type": "markdown",
   "metadata": {},
   "source": [
    "Map,Filter,Reduce Function"
   ]
  },
  {
   "cell_type": "code",
   "execution_count": 42,
   "metadata": {},
   "outputs": [
    {
     "name": "stdout",
     "output_type": "stream",
     "text": [
      "new list before[]\n",
      "num>>1\n",
      "Calling Square\n",
      "num_sqr 1\n",
      "num>>2\n",
      "Calling Square\n",
      "num_sqr 4\n",
      "num>>3\n",
      "Calling Square\n",
      "num_sqr 9\n",
      "num>>4\n",
      "Calling Square\n",
      "num_sqr 16\n",
      "num>>5\n",
      "Calling Square\n",
      "num_sqr 25\n",
      "new_list After[1, 4, 9, 16, 25]\n"
     ]
    }
   ],
   "source": [
    "numbers =[1,2,3,4,5]\n",
    "\n",
    "def square(num: int):\n",
    "    return num * num \n",
    "\n",
    "new_list = []\n",
    "print(f\"new list before{new_list}\")\n",
    "for num in numbers:\n",
    "    print(f\"num>>{num}\")\n",
    "    print(\"Calling Square\")\n",
    "    num_sqr = square(num)\n",
    "    print(f\"num_sqr\",num_sqr)\n",
    "\n",
    "    new_list.append(num_sqr)\n",
    "print(f\"new_list After{new_list}\")\n",
    "\n",
    "# print(square(2))"
   ]
  },
  {
   "cell_type": "code",
   "execution_count": null,
   "metadata": {},
   "outputs": [
    {
     "name": "stdout",
     "output_type": "stream",
     "text": [
      "numbers  > > >  [1, 2, 3, 4, 5]\n",
      "new_list  > > >  [1, 4, 9, 16, 25]\n"
     ]
    }
   ],
   "source": [
    "numbers =[1,2,3,4,5]\n",
    "print(f\"numbers  > > >  {numbers}\")\n",
    "\n",
    "# \"Arguments 🔻 🔻\"\n",
    "def square(num: int):\n",
    "    return num * num \n",
    "\n",
    "new_list = list(map(square,numbers))\n",
    "print(f\"new_list  > > >  {new_list}\")"
   ]
  },
  {
   "cell_type": "code",
   "execution_count": 50,
   "metadata": {},
   "outputs": [
    {
     "name": "stdout",
     "output_type": "stream",
     "text": [
      "filtered list[4, 5]\n"
     ]
    }
   ],
   "source": [
    "numbers =[1,2,3,4,5]\n",
    "# print(f\"numbers  > > >  {numbers}\")\n",
    "\n",
    "def filter_function( num: int):\n",
    "    return  num > 3\n",
    "\n",
    "# Arguments                             \n",
    "filtered_list = list(filter(filter_function,numbers))\n",
    "print(f\"filtered list{filtered_list}\")"
   ]
  },
  {
   "cell_type": "markdown",
   "metadata": {},
   "source": [
    "Reduce function H.W"
   ]
  }
 ],
 "metadata": {
  "kernelspec": {
   "display_name": "Python 3",
   "language": "python",
   "name": "python3"
  },
  "language_info": {
   "codemirror_mode": {
    "name": "ipython",
    "version": 3
   },
   "file_extension": ".py",
   "mimetype": "text/x-python",
   "name": "python",
   "nbconvert_exporter": "python",
   "pygments_lexer": "ipython3",
   "version": "3.13.0"
  }
 },
 "nbformat": 4,
 "nbformat_minor": 2
}
